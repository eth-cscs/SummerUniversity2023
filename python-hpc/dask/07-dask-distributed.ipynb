{
 "cells": [
  {
   "cell_type": "markdown",
   "id": "9996b927-a31e-43ee-984b-a38faad8049d",
   "metadata": {
    "tags": []
   },
   "source": [
    "# Running a [`Dask.distributed`](https://distributed.dask.org/en/stable/) example with multiple nodes\n",
    "\n",
    "Here we use a distributed multi-node dask cluster to compute the sum of some of the elements of a 1.82TB-large `dask.array` of random numbers.\n",
    "\n",
    "The distributed cluster can be created with [IPCMagic](https://github.com/eth-cscs/ipcluster_magic/tree/master) by passing the `--dask` option to `%ipcluster start`. When the cluster has been created, a new cell will appear in the notebook where a `distributed.Client` is defined so everything that's run here is submitted to the cluster.\n",
    "\n",
    "Here it's not necessary to decorate the cells with `%%px`. After defining the `distributed.Client`, dask will run everything in the cluster."
   ]
  },
  {
   "cell_type": "code",
   "execution_count": null,
   "id": "ddf8389b-d465-4618-a4ea-802458a31b47",
   "metadata": {},
   "outputs": [],
   "source": [
    "import ipcmagic\n",
    "import dask.array as da"
   ]
  },
  {
   "cell_type": "code",
   "execution_count": null,
   "id": "c70d37d1-d185-4df3-861d-155da7da83d0",
   "metadata": {},
   "outputs": [],
   "source": [
    "%ipcluster start -n 12 --dask"
   ]
  },
  {
   "cell_type": "code",
   "execution_count": null,
   "id": "7293cf7e-e137-4bd3-bfce-f777d27bf0ed",
   "metadata": {},
   "outputs": [],
   "source": [
    "# connect to cluster\n",
    "from dask.distributed import Client\n",
    "client = Client(scheduler_file='/tmp/tmpdw0co2jb')\n",
    "client"
   ]
  },
  {
   "cell_type": "code",
   "execution_count": null,
   "id": "f94ed16e-1a5d-40e6-bb56-168ddebf0202",
   "metadata": {},
   "outputs": [],
   "source": [
    "N = 500_000\n",
    "x = da.random.random((N, N))  #, chunks=(N / 500, 1000))\n",
    "x"
   ]
  },
  {
   "cell_type": "code",
   "execution_count": null,
   "id": "5a9b2134-213f-4a27-ad3b-98a387df5c08",
   "metadata": {},
   "outputs": [],
   "source": [
    "%%time\n",
    "result = x[::500, ::500].mean().compute()"
   ]
  },
  {
   "cell_type": "code",
   "execution_count": null,
   "id": "1b933a0e-2198-451d-b536-af533be742af",
   "metadata": {},
   "outputs": [],
   "source": [
    "result"
   ]
  },
  {
   "cell_type": "code",
   "execution_count": null,
   "id": "19abd8f2-b0c4-4cee-85ae-4ce409c76f30",
   "metadata": {},
   "outputs": [],
   "source": [
    "%%px\n",
    "import socket           # the %%px operations on the ipcluster are still available\n",
    "                        # even when the dask cluster is active\n",
    "socket.gethostname()"
   ]
  },
  {
   "cell_type": "code",
   "execution_count": null,
   "id": "d90bcd04-333d-453f-a30e-68b7bf10873b",
   "metadata": {},
   "outputs": [],
   "source": [
    "client.close()"
   ]
  },
  {
   "cell_type": "code",
   "execution_count": null,
   "id": "becfd05d-c365-449e-874b-c5cde58d6de8",
   "metadata": {},
   "outputs": [],
   "source": [
    "%ipcluster stop"
   ]
  }
 ],
 "metadata": {
  "kernelspec": {
   "display_name": "hpcpy2023",
   "language": "python",
   "name": "hpcpy2023"
  },
  "language_info": {
   "codemirror_mode": {
    "name": "ipython",
    "version": 3
   },
   "file_extension": ".py",
   "mimetype": "text/x-python",
   "name": "python",
   "nbconvert_exporter": "python",
   "pygments_lexer": "ipython3",
   "version": "3.9.4"
  }
 },
 "nbformat": 4,
 "nbformat_minor": 5
}
