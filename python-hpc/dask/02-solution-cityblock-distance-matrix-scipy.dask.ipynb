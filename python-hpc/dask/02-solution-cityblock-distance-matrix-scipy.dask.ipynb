{
 "cells": [
  {
   "cell_type": "markdown",
   "metadata": {},
   "source": [
    "# Multithreaded Cityblock distance matrix function with SciPy and Dask's delayed execution\n",
    "\n",
    "In this notebook we implement a function to compute the cityblock distance matrix using `scipy.spatial.distance.cdist`. Althought this function is quite fast, it uses a single thread. In cases like this one, it might be convenient to implement a multithreaded version of the function by parallelicing the execution over chunks of data. We are going to use `dask.delayed` to do that."
   ]
  },
  {
   "cell_type": "code",
   "execution_count": null,
   "metadata": {},
   "outputs": [],
   "source": [
    "import numpy as np\n",
    "from scipy.spatial.distance import cdist\n",
    "from dask import compute, delayed, visualize"
   ]
  },
  {
   "cell_type": "code",
   "execution_count": null,
   "metadata": {},
   "outputs": [],
   "source": [
    "nsamples = 12000\n",
    "nfeat = 50\n",
    "\n",
    "rng = np.random.default_rng()\n",
    "x = 10. * rng.random([nsamples, nfeat])"
   ]
  },
  {
   "cell_type": "markdown",
   "metadata": {},
   "source": [
    "Let's time the `cdist` function and at look the `top` command."
   ]
  },
  {
   "cell_type": "code",
   "execution_count": null,
   "metadata": {},
   "outputs": [],
   "source": [
    "# observe here that the funcion `cdist` used to get the cityblock distance\n",
    "# is not multithreaded\n",
    "\n",
    "%timeit cdist(x, x, 'cityblock')"
   ]
  },
  {
   "cell_type": "markdown",
   "metadata": {},
   "source": [
    "With the `top` command we see that `cdist` runs in a single thread. In such cases it could be quite simple write a distributed version of the function. We can do this very easily with `dask.delayed`!"
   ]
  },
  {
   "cell_type": "markdown",
   "metadata": {},
   "source": [
    "## Dask's async delayed execution\n",
    "A simple distributed version of `cdist` can be done as the following:\n",
    "  * Split the array of vectors into chunks. We can use `np.split(x, num_chunks)`\n",
    "  * Compute partial cityblock distance matrices of the complete array with respect to each of the chunks\n",
    "  * Concatenate the resulting list into a single cityblock distance matrix.\n",
    "\n",
    "Note that concatenation is not a fast operation, so probably we will have to continue improving our function."
   ]
  },
  {
   "cell_type": "code",
   "execution_count": null,
   "metadata": {},
   "outputs": [],
   "source": [
    "#  1. Split the array of vectors into chunks. We can use `np.split(x, num_chunks)`\n",
    "#  2. Compute partial cityblock distance matrices of the complete array with respect to each of the chunks\n",
    "\n",
    "chunks = 12  # define the number of operations to be performed asynchronously\n",
    "             # we choose one chunk per physical CPU (12 phyical CPUs in Pz Daint `gpu` partition)\n",
    "\n",
    "partial_distances = [delayed(cdist)(x, xi, 'cityblock')\n",
    "                     for xi in np.split(x, chunks)]"
   ]
  },
  {
   "cell_type": "code",
   "execution_count": null,
   "metadata": {},
   "outputs": [],
   "source": [
    "# visualize the copmutational graph\n",
    "visualize(partial_distances)"
   ]
  },
  {
   "cell_type": "code",
   "execution_count": null,
   "metadata": {},
   "outputs": [],
   "source": [
    "cbdm_dask = delayed(np.concatenate)(partial_distances, axis=1)"
   ]
  },
  {
   "cell_type": "code",
   "execution_count": null,
   "metadata": {},
   "outputs": [],
   "source": [
    "# visualize the copmutational graph\n",
    "visualize(cbdm_dask)"
   ]
  },
  {
   "cell_type": "code",
   "execution_count": null,
   "metadata": {},
   "outputs": [],
   "source": [
    "cbdm_dask.compute()"
   ]
  },
  {
   "cell_type": "markdown",
   "metadata": {},
   "source": [
    "Let's time the compute step and go to the command `top`. Now you can see that computation is executed in parallel resulting in a shorter execution time."
   ]
  },
  {
   "cell_type": "code",
   "execution_count": null,
   "metadata": {},
   "outputs": [],
   "source": [
    "%timeit compute(cbdm_dask, scheduler='threads')"
   ]
  },
  {
   "cell_type": "code",
   "execution_count": null,
   "metadata": {},
   "outputs": [],
   "source": [
    "# check that the resulting matrices are the same\n",
    "cbdm = compute(cbdm_dask, scheduler='threads')[0]\n",
    "np.abs(cbdm - cdist(x, x, 'cityblock')).max()"
   ]
  },
  {
   "cell_type": "markdown",
   "metadata": {},
   "source": [
    "A problem with this solution, as mentioned above, is that `np.concatenate` is not  a fast operation.\n",
    "Let's check how much time it takes without the concatenation part:"
   ]
  },
  {
   "cell_type": "code",
   "execution_count": null,
   "metadata": {},
   "outputs": [],
   "source": [
    "# time and run the computational graph without the concatenate part\n",
    "%timeit compute(*partial_distances, scheduler='threads')"
   ]
  },
  {
   "cell_type": "markdown",
   "metadata": {},
   "source": [
    "Let's implement the whole thing as a single function:"
   ]
  },
  {
   "cell_type": "code",
   "execution_count": null,
   "metadata": {},
   "outputs": [],
   "source": [
    "def cityblock_dask(x, y, chunks):\n",
    "    \"\"\"Implementation using array concatenation\"\"\"\n",
    "    partial_distances = [delayed(cdist)(x, xi, 'cityblock')\n",
    "                         for xi in np.split(x, chunks)]\n",
    "    cbdm_dask = delayed(np.concatenate)(partial_distances, axis=1)\n",
    "    return compute(cbdm_dask, scheduler='threads')"
   ]
  },
  {
   "cell_type": "code",
   "execution_count": null,
   "metadata": {},
   "outputs": [],
   "source": [
    "np.abs(cityblock_dask(x, x, chunks) - cdist(x, x, 'cityblock')).max()"
   ]
  },
  {
   "cell_type": "markdown",
   "metadata": {},
   "source": [
    "# Conclusions\n",
    "The main points to take home from this notebook are:\n",
    "  * Dask's delayed execution can be used to make distributed version of functions that run on a single thread.\n",
    "  * Ditributed version of functions that use OpenMP threads might be slower than the original since the CPU threads need be shared between the concurrent executions of the function."
   ]
  }
 ],
 "metadata": {
  "kernelspec": {
   "display_name": "hpcpy2023",
   "language": "python",
   "name": "hpcpy2023"
  },
  "language_info": {
   "codemirror_mode": {
    "name": "ipython",
    "version": 3
   },
   "file_extension": ".py",
   "mimetype": "text/x-python",
   "name": "python",
   "nbconvert_exporter": "python",
   "pygments_lexer": "ipython3",
   "version": "3.9.4"
  }
 },
 "nbformat": 4,
 "nbformat_minor": 4
}
