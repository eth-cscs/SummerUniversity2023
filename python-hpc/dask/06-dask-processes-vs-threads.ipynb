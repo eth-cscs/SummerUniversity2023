{
 "cells": [
  {
   "cell_type": "markdown",
   "metadata": {},
   "source": [
    "# `dask.delayed`: processes vs threads\n",
    "\n",
    "Here we use a (quite uneficient) python implementation of the euclidean distance matrix to understand how `dask.delayed` behaves with python code. Remember that before, what we run with `dask.delayed` was Scipy's `cdist` function."
   ]
  },
  {
   "cell_type": "code",
   "execution_count": null,
   "metadata": {},
   "outputs": [],
   "source": [
    "import dask\n",
    "import numpy as np"
   ]
  },
  {
   "cell_type": "code",
   "execution_count": null,
   "metadata": {},
   "outputs": [],
   "source": [
    "def euclidean_distance_matrix(x, y):\n",
    "    num_samples = x.shape[0]\n",
    "    dist_matrix = np.empty((num_samples, num_samples))\n",
    "    for i, xi in enumerate(x):\n",
    "        for j, yj in enumerate(y):\n",
    "            diff = xi - yj\n",
    "            dist_matrix[i][j] = diff.sum()\n",
    "    return dist_matrix"
   ]
  },
  {
   "cell_type": "code",
   "execution_count": null,
   "metadata": {},
   "outputs": [],
   "source": [
    "x = np.random.random([1000, 50])"
   ]
  },
  {
   "cell_type": "code",
   "execution_count": null,
   "metadata": {},
   "outputs": [],
   "source": [
    "%%time\n",
    "edm = euclidean_distance_matrix(x, x)"
   ]
  },
  {
   "cell_type": "code",
   "execution_count": null,
   "metadata": {},
   "outputs": [],
   "source": [
    "graph = [\n",
    "    dask.delayed(euclidean_distance_matrix)(x, x),  # 1\n",
    "    dask.delayed(euclidean_distance_matrix)(x, x),  # 2\n",
    "    dask.delayed(euclidean_distance_matrix)(x, x),  # 3\n",
    "    dask.delayed(euclidean_distance_matrix)(x, x),  # 4\n",
    "    dask.delayed(euclidean_distance_matrix)(x, x),  # 5\n",
    "    dask.delayed(euclidean_distance_matrix)(x, x),  # 6\n",
    "    dask.delayed(euclidean_distance_matrix)(x, x),  # 7\n",
    "    dask.delayed(euclidean_distance_matrix)(x, x),  # 8\n",
    "    dask.delayed(euclidean_distance_matrix)(x, x),  # 9\n",
    "    dask.delayed(euclidean_distance_matrix)(x, x),  # 10\n",
    "    dask.delayed(euclidean_distance_matrix)(x, x),  # 11\n",
    "    dask.delayed(euclidean_distance_matrix)(x, x),  # 12\n",
    "]"
   ]
  },
  {
   "cell_type": "code",
   "execution_count": null,
   "metadata": {},
   "outputs": [],
   "source": [
    "%%time\n",
    "edm = dask.compute(graph, scheduler='threads')"
   ]
  },
  {
   "cell_type": "code",
   "execution_count": null,
   "metadata": {},
   "outputs": [],
   "source": [
    "%%time\n",
    "edm = dask.compute(graph, scheduler='processes')"
   ]
  }
 ],
 "metadata": {
  "kernelspec": {
   "display_name": "hpcpy2023",
   "language": "python",
   "name": "hpcpy2023"
  },
  "language_info": {
   "codemirror_mode": {
    "name": "ipython",
    "version": 3
   },
   "file_extension": ".py",
   "mimetype": "text/x-python",
   "name": "python",
   "nbconvert_exporter": "python",
   "pygments_lexer": "ipython3",
   "version": "3.9.4"
  }
 },
 "nbformat": 4,
 "nbformat_minor": 4
}
