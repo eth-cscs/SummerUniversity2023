{
 "cells": [
  {
   "cell_type": "markdown",
   "metadata": {},
   "source": [
    "# Introduction to Dask graphs\n",
    "\n",
    "In this notebook we see how to run functions concurrently using Dask graphs.\n",
    "\n",
    "We are going to use a simple example: computing the square of two numbers and adding the results. A real use case would be, of course, when dealing with time-consuming functions. That could be expensive IO operations, for instance. We are going to simulate expensive IO operation by adding a `time.sleep(1)` to our functions.\n",
    "\n",
    "On a regular python program (unless we use numpy arrays) we would do the following:\n",
    " - x1 = square of the first number\n",
    " - x2 = square of the second number\n",
    " - x = x1 + x2\n",
    " \n",
    "Using Dask, we are going to transform that to\n",
    " - (x1 = square of the first number, x2 = square of the first number)  # computed at the same time!\n",
    " - x = x1 + x2"
   ]
  },
  {
   "cell_type": "code",
   "execution_count": null,
   "metadata": {},
   "outputs": [],
   "source": [
    "import dask\n",
    "import time"
   ]
  },
  {
   "cell_type": "code",
   "execution_count": null,
   "metadata": {},
   "outputs": [],
   "source": [
    "def square(n):\n",
    "    time.sleep(2)\n",
    "    return n * n\n",
    "    \n",
    "def add(m, n):\n",
    "    time.sleep(2)\n",
    "    return m + n"
   ]
  },
  {
   "cell_type": "code",
   "execution_count": null,
   "metadata": {},
   "outputs": [],
   "source": [
    "%%time \n",
    "\n",
    "x = square(1)\n",
    "y = square(2)\n",
    "z = add(x, y)"
   ]
  },
  {
   "cell_type": "markdown",
   "metadata": {},
   "source": [
    "***\n",
    "\n",
    "## Building a computational graph"
   ]
  },
  {
   "cell_type": "code",
   "execution_count": null,
   "metadata": {},
   "outputs": [],
   "source": [
    "x = dask.delayed(square)(1)\n",
    "y = dask.delayed(square)(2)\n",
    "z = dask.delayed(add)(x, y)"
   ]
  },
  {
   "cell_type": "code",
   "execution_count": null,
   "metadata": {},
   "outputs": [],
   "source": [
    "z.visualize(rankdir='LR')"
   ]
  },
  {
   "cell_type": "code",
   "execution_count": null,
   "metadata": {},
   "outputs": [],
   "source": [
    "z.visualize(rankdir='LR', optimize_graph=True, color='order',\n",
    "            cmap='autumn', node_attr={'penwidth': '2'})"
   ]
  },
  {
   "cell_type": "code",
   "execution_count": null,
   "metadata": {},
   "outputs": [],
   "source": [
    "%%time\n",
    "z.compute()"
   ]
  },
  {
   "cell_type": "markdown",
   "metadata": {},
   "source": [
    "***\n",
    "\n",
    "## Questions\n",
    "\n",
    "<mark>**Question 1**</mark>: Rewrite the following cell so it's executed lazily.\n",
    " * Which functions should be `delayed`? `square`? `sum`? Both? Why?\n",
    " * Visualize the graph.\n",
    " * Compare the execution time with the sequential execution."
   ]
  },
  {
   "cell_type": "code",
   "execution_count": null,
   "metadata": {},
   "outputs": [],
   "source": [
    "x = [square(i) for i in range(10)]\n",
    "y = sum(x)"
   ]
  },
  {
   "cell_type": "code",
   "execution_count": null,
   "metadata": {},
   "outputs": [],
   "source": [
    "%load solutions/exercise1.py"
   ]
  },
  {
   "cell_type": "markdown",
   "metadata": {},
   "source": [
    "<mark>**Question 2**</mark>: Try a number of `square` calls larger and then shorter than the number of threads of the processor (24 for the gpu partition of Piz Daint). How much time it's going to take for 24 calls and how much for 25?"
   ]
  },
  {
   "cell_type": "markdown",
   "metadata": {},
   "source": [
    "***\n",
    "<mark>**Question 3**</mark>: Rewrite the following cell so it's executed lazily.\n",
    " * Which functions should be delayed?\n",
    " * Visualize the graph.\n",
    " * Compare the execution time with the sequential execution."
   ]
  },
  {
   "cell_type": "code",
   "execution_count": null,
   "metadata": {},
   "outputs": [],
   "source": [
    "x = []\n",
    "for i in range(10):\n",
    "    x.append(square(i))\n",
    "\n",
    "y = sum(x)"
   ]
  },
  {
   "cell_type": "code",
   "execution_count": null,
   "metadata": {},
   "outputs": [],
   "source": [
    "%load solutions/exercise2.py"
   ]
  },
  {
   "cell_type": "markdown",
   "metadata": {},
   "source": [
    "***\n",
    "<mark>**Question 4**</mark>: Rewrite the following cell so it's executed lazily.\n",
    " * Which functions should be delayed?\n",
    " * Visualize the graph."
   ]
  },
  {
   "cell_type": "code",
   "execution_count": null,
   "metadata": {},
   "outputs": [],
   "source": [
    "x = []\n",
    "for i in range(10):\n",
    "    if i % 2 == 0:\n",
    "        x.append(square(i))\n",
    "    else:\n",
    "        x.append(add(i, i))\n",
    "\n",
    "y = sum(x)"
   ]
  },
  {
   "cell_type": "code",
   "execution_count": null,
   "metadata": {},
   "outputs": [],
   "source": [
    "%load solutions/exercise3.py"
   ]
  }
 ],
 "metadata": {
  "kernelspec": {
   "display_name": "hpcpy2023",
   "language": "python",
   "name": "hpcpy2023"
  },
  "language_info": {
   "codemirror_mode": {
    "name": "ipython",
    "version": 3
   },
   "file_extension": ".py",
   "mimetype": "text/x-python",
   "name": "python",
   "nbconvert_exporter": "python",
   "pygments_lexer": "ipython3",
   "version": "3.9.4"
  }
 },
 "nbformat": 4,
 "nbformat_minor": 4
}
