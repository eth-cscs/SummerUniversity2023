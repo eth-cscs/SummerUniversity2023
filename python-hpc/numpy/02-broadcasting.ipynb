{
 "cells": [
  {
   "cell_type": "markdown",
   "metadata": {},
   "source": [
    "# Basics of broadcasting\n",
    "The concept [broadcasting](https://docs.scipy.org/doc/numpy/user/basics.broadcasting.html) has to do with the way NumPy treats the arrays during operations involving different shapes.\n",
    "The simplest case is the addtion of an array `[a, b, c, d, e]` of shape `(5,)` to a scalar `z`. This gives the array `[a + z, b + z, c + z, d + z, e + z]` of shape `(5, )`\n",
    "\n",
    "$$\n",
    "\\begin{bmatrix}\n",
    "    a & b & c & d & e\n",
    "\\end{bmatrix}\n",
    "+\n",
    "z\n",
    "=\n",
    "\\begin{bmatrix}\n",
    "    a + z & b + z & c + z & d + z & e + z\n",
    "\\end{bmatrix}\n",
    "$$\n",
    "\n",
    "<pre>\n",
    "                                       (5,)                          (5,)\n",
    "</pre>\n",
    "\n",
    "Try it with the following cell:"
   ]
  },
  {
   "cell_type": "code",
   "execution_count": null,
   "metadata": {},
   "outputs": [],
   "source": [
    "import numpy as np"
   ]
  },
  {
   "cell_type": "code",
   "execution_count": null,
   "metadata": {},
   "outputs": [],
   "source": [
    "x = np.arange(5)   # of shape (5,)\n",
    "x + 1."
   ]
  },
  {
   "cell_type": "markdown",
   "metadata": {},
   "source": [
    "***\n",
    "\n",
    "## Creating new array dimensions\n",
    "\n",
    "A broadcasting operation that's necessary quite often, is the creation of new dimensions for a given array. This is done with `np.newaxis`."
   ]
  },
  {
   "cell_type": "code",
   "execution_count": null,
   "metadata": {},
   "outputs": [],
   "source": [
    "# array with int as elements `array([0, 1, 2, 3, 4])`.\n",
    "x = np.arange(5)\n",
    "x.shape"
   ]
  },
  {
   "cell_type": "code",
   "execution_count": null,
   "metadata": {},
   "outputs": [],
   "source": [
    "# the elements of this array are arrays of a single int: `array([[0], [1], [2], [3], [4]])`.\n",
    "# it can be seen as 5 rows of 1 element (a column vector)\n",
    "x[:, np.newaxis].shape"
   ]
  },
  {
   "cell_type": "code",
   "execution_count": null,
   "metadata": {},
   "outputs": [],
   "source": [
    "# the element of this array is an array of shape (5,): `array([[0, 1, 2, 3, 4]])`.\n",
    "# this one is a row vector\n",
    "x[np.newaxis, :].shape"
   ]
  },
  {
   "cell_type": "markdown",
   "metadata": {},
   "source": [
    "<mark>Question</mark>: From what you have learned about the `numpy.ndarray`s: Does the operation `x[:, np.newaxis]` allocate new memory or could it be performed by only changing the metadata?"
   ]
  },
  {
   "cell_type": "markdown",
   "metadata": {},
   "source": [
    "***\n",
    "\n",
    "## Vectorial operations through broadcasting\n",
    "\n",
    "Broadcasting is often usefull to perform vectorial operations that are not vectorial in the mathematical sense. Let's consider the addition of a `(1, 5)` vector and a `(5, 1)` vector. The reasoning is similar to what we saw earlier: It's like five *vector-plus-scalar* operations that create a `(5, 5)` array:\n",
    "\n",
    "$$\n",
    "\\begin{bmatrix}\n",
    "    a & b & c & d & e\n",
    "\\end{bmatrix}\n",
    "+\n",
    "\\begin{bmatrix}\n",
    "    a \\\\\n",
    "    b \\\\\n",
    "    c \\\\\n",
    "    d \\\\\n",
    "    e\n",
    "\\end{bmatrix}\n",
    "=\n",
    "\\begin{bmatrix}\n",
    "    a + a & b + a & c + a & d + a & e + a \\\\\n",
    "    a + b & b + b & c + b & d + b & e + b \\\\\n",
    "    a + c & b + c & c + c & d + c & e + c \\\\\n",
    "    a + d & b + d & c + d & d + d & e + d \\\\\n",
    "    a + e & b + e & c + e & d + e & e + e\n",
    "\\end{bmatrix}\n",
    "$$\n",
    "<pre> \n",
    "                                    (1, 5)      (5, 1)               (5, 5)\n",
    "</pre>\n",
    "\n",
    "Next cell produces the `(5, 5)` array `y` with of all the possible combinations of the elements of the `(5,)` array `x`."
   ]
  },
  {
   "cell_type": "code",
   "execution_count": null,
   "metadata": {},
   "outputs": [],
   "source": [
    "y = x[:, np.newaxis] + x[np.newaxis, :]\n",
    "y.shape"
   ]
  },
  {
   "cell_type": "markdown",
   "metadata": {},
   "source": [
    "***\n",
    "\n",
    "Let's do the same thing now, but with arrays of `(3,)` arrays.\n",
    "$$\n",
    "\\begin{bmatrix}\n",
    "    \\vec{a} & \\vec{b} & \\vec{c} & \\vec{d} & \\vec{e}\n",
    "\\end{bmatrix}\n",
    "+\n",
    "\\begin{bmatrix}\n",
    "    \\vec{a} \\\\\n",
    "    \\vec{b} \\\\\n",
    "    \\vec{c} \\\\\n",
    "    \\vec{d} \\\\\n",
    "    \\vec{e}\n",
    "\\end{bmatrix}\n",
    "=\n",
    "\\begin{bmatrix}\n",
    "    \\vec{a} + \\vec{a} & \\vec{b} + \\vec{a} & \\vec{c} + \\vec{a} & \\vec{d} + \\vec{a} & \\vec{e} + \\vec{a} \\\\\n",
    "    \\vec{a} + \\vec{b} & \\vec{b} + \\vec{b} & \\vec{c} + \\vec{b} & \\vec{d} + \\vec{b} & \\vec{e} + \\vec{b} \\\\\n",
    "    \\vec{a} + \\vec{c} & \\vec{b} + \\vec{c} & \\vec{c} + \\vec{c} & \\vec{d} + \\vec{c} & \\vec{e} + \\vec{c} \\\\\n",
    "    \\vec{a} + \\vec{d} & \\vec{b} + \\vec{d} & \\vec{c} + \\vec{d} & \\vec{d} + \\vec{d} & \\vec{e} + \\vec{d} \\\\\n",
    "    \\vec{a} + \\vec{e} & \\vec{b} + \\vec{e} & \\vec{c} + \\vec{e} & \\vec{d} + \\vec{e} & \\vec{e} + \\vec{e}\n",
    "\\end{bmatrix}\n",
    "$$\n",
    "\n",
    "<pre>\n",
    "                                  (1, 5, 3)   (5, 1, 3)            (5, 5, 3)\n",
    "</pre>"
   ]
  },
  {
   "cell_type": "markdown",
   "metadata": {},
   "source": [
    "***\n",
    "\n",
    "To sum up what we have learnt, lets consider the following example: We have a list of `n` vectors of shape `(3,)` as a `(n, 3)`array (each row of the array is a `(3,)` vector). From the list of vectors, we need the matrix of the difference of all their combinations:\n",
    "\n",
    "$$\n",
    "\\begin{bmatrix}\n",
    "x_{11} & x_{12} & x_{13} \\\\\n",
    "x_{21} & x_{22} & x_{23} \\\\\n",
    " ...   & ...    & ...    \\\\\n",
    "x_{n1} & x_{n2} & x_{n3} \\\\\n",
    "\\end{bmatrix}\n",
    "\\rightarrow\n",
    "\\begin{bmatrix}\n",
    "\\vec{x}_{1}-\\vec{x}_{1} & \\vec{x}_{1}-\\vec{x}_{2} & ... & \\vec{x}_{1}-\\vec{x}_{n}\\\\\n",
    "\\vec{x}_{2}-\\vec{x}_{1} & \\vec{x}_{2}-\\vec{x}_{2} & ... & \\vec{x}_{2}-\\vec{x}_{n}\\\\\n",
    " ...                & ...                 & ... & ...                \\\\\n",
    "\\vec{x}_{n}-\\vec{x}_{1} & \\vec{x}_{n}-\\vec{x}_{2} & ... & \\vec{x}_{n}-\\vec{x}_{n}\\\\\n",
    "\\end{bmatrix}\n",
    "$$\n",
    "\n",
    "Here we need to combine the creation of new array dimensions and addition with different shapes."
   ]
  },
  {
   "cell_type": "code",
   "execution_count": null,
   "metadata": {},
   "outputs": [],
   "source": [
    "# generate the data\n",
    "x = np.random.rand(10, 3)\n",
    "x.shape"
   ]
  },
  {
   "cell_type": "code",
   "execution_count": null,
   "metadata": {},
   "outputs": [],
   "source": [
    "x[np.newaxis, :, :].shape"
   ]
  },
  {
   "cell_type": "code",
   "execution_count": null,
   "metadata": {},
   "outputs": [],
   "source": [
    "x[:, np.newaxis, :].shape"
   ]
  },
  {
   "cell_type": "code",
   "execution_count": null,
   "metadata": {},
   "outputs": [],
   "source": [
    "(x[np.newaxis, :, :] - x[:, np.newaxis, :]).shape"
   ]
  },
  {
   "cell_type": "markdown",
   "metadata": {},
   "source": [
    "<mark>Answer</mark>: The operation `x[:, np.newaxis]` is performed by changing the metadata."
   ]
  }
 ],
 "metadata": {
  "kernelspec": {
   "display_name": "hpcpy2023",
   "language": "python",
   "name": "hpcpy2023"
  },
  "language_info": {
   "codemirror_mode": {
    "name": "ipython",
    "version": 3
   },
   "file_extension": ".py",
   "mimetype": "text/x-python",
   "name": "python",
   "nbconvert_exporter": "python",
   "pygments_lexer": "ipython3",
   "version": "3.9.4"
  }
 },
 "nbformat": 4,
 "nbformat_minor": 4
}
