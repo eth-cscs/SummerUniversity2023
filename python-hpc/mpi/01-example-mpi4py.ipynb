{
 "cells": [
  {
   "cell_type": "markdown",
   "id": "59fa3a11-51ad-4c38-b228-acd7475ba737",
   "metadata": {},
   "source": [
    "## MPI4Py example\n",
    "\n",
    "In this example we use [IPCMagic](https://github.com/eth-cscs/ipcluster_magic/tree/master) to run an example from [MPI4Py's homepage](https://mpi4py.readthedocs.io/en/stable/tutorial.html#point-to-point-communication) within a Jupyter notebook.\n",
    "\n",
    "* From a shell in Piz Daint this can be run using this Slurm job script:\n",
    " \n",
    "```\n",
    "#!/bin/bash -l\n",
    "\n",
    "#SBATCH --job-name=osubw\n",
    "#SBATCH --time=00:05:00\n",
    "#SBATCH --nodes=2\n",
    "#SBATCH --ntasks-per-core=1\n",
    "#SBATCH --ntasks-per-node=1\n",
    "#SBATCH --cpus-per-task=12\n",
    "#SBATCH --partition=normal\n",
    "#SBATCH --constraint=gpu\n",
    "#SBATCH --account=<project>\n",
    "\n",
    "# source python environment with cupy and mpi4py\n",
    "\n",
    "srun python example.py\n",
    "```"
   ]
  },
  {
   "cell_type": "code",
   "execution_count": null,
   "id": "88103094-3390-421c-a057-545380d66361",
   "metadata": {},
   "outputs": [],
   "source": [
    "import os\n",
    "import ipcmagic"
   ]
  },
  {
   "cell_type": "code",
   "execution_count": null,
   "id": "0c04d1da-4d0c-4cab-9589-a3df4e49bc02",
   "metadata": {},
   "outputs": [],
   "source": [
    "%ipcluster start -n 2"
   ]
  },
  {
   "cell_type": "code",
   "execution_count": null,
   "id": "07a292aa-ef34-4aee-af19-4982a9d17c6f",
   "metadata": {},
   "outputs": [],
   "source": [
    "%%px\n",
    "import socket\n",
    "\n",
    "socket.gethostname()"
   ]
  },
  {
   "cell_type": "code",
   "execution_count": null,
   "id": "70410db4-dbbc-4bef-a6bb-81d44a49f2f5",
   "metadata": {},
   "outputs": [],
   "source": [
    "# Disable IPyParallel's progress bar\n",
    "%pxconfig --progress-after -1"
   ]
  },
  {
   "cell_type": "code",
   "execution_count": null,
   "id": "0b75dfc9-e7df-4773-9f13-ee5d2d6d17ee",
   "metadata": {},
   "outputs": [],
   "source": [
    "%%px\n",
    "from mpi4py import MPI\n",
    "import numpy"
   ]
  },
  {
   "cell_type": "code",
   "execution_count": null,
   "id": "eabef2b4-0ea4-4ff3-b7a8-a3dedad4deec",
   "metadata": {},
   "outputs": [],
   "source": [
    "%%px\n",
    "comm = MPI.COMM_WORLD\n",
    "rank = comm.Get_rank()"
   ]
  },
  {
   "cell_type": "code",
   "execution_count": null,
   "id": "f10d069f-4ebb-440c-b8bc-9c6d3c80b804",
   "metadata": {},
   "outputs": [],
   "source": [
    "%%px\n",
    "\n",
    "# passing MPI datatypes explicitly\n",
    "if rank == 0:\n",
    "    data = numpy.arange(10, dtype='i')\n",
    "    comm.Send([data, MPI.INT], dest=1)\n",
    "elif rank == 1:\n",
    "    data = numpy.empty(10, dtype='i')\n",
    "    comm.Recv([data, MPI.INT], source=0)\n",
    "    print(f' * array from rank {rank}: {data}')"
   ]
  },
  {
   "cell_type": "code",
   "execution_count": null,
   "id": "8be430ec-4548-4624-bf4e-e2f12b78a18e",
   "metadata": {},
   "outputs": [],
   "source": [
    "%%px\n",
    "\n",
    "# automatic MPI datatype discovery\n",
    "if rank == 0:\n",
    "    data = numpy.arange(10, dtype=numpy.float64)\n",
    "    comm.Send(data, dest=1)\n",
    "elif rank == 1:\n",
    "    data = numpy.empty(10, dtype=numpy.float64)\n",
    "    comm.Recv(data, source=0)\n",
    "    print(f' * array from rank {rank}: {data}')"
   ]
  },
  {
   "cell_type": "code",
   "execution_count": null,
   "id": "4c4d84af-8c8a-4778-81f0-931903d64b79",
   "metadata": {},
   "outputs": [],
   "source": [
    "%ipcluster stop"
   ]
  }
 ],
 "metadata": {
  "kernelspec": {
   "display_name": "hpcpy2023",
   "language": "python",
   "name": "hpcpy2023"
  },
  "language_info": {
   "codemirror_mode": {
    "name": "ipython",
    "version": 3
   },
   "file_extension": ".py",
   "mimetype": "text/x-python",
   "name": "python",
   "nbconvert_exporter": "python",
   "pygments_lexer": "ipython3",
   "version": "3.9.4"
  }
 },
 "nbformat": 4,
 "nbformat_minor": 5
}
