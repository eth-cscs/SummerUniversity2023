{
 "cells": [
  {
   "cell_type": "markdown",
   "metadata": {},
   "source": [
    "# Using `numba.jit` to speedup the computation of the Cityblock distance matrix \n",
    "\n",
    "\n",
    "In this notebook we implement a function to compute the Cityblock distance matrix using Numba's parallelism and the *just-in-time* compilation decorator."
   ]
  },
  {
   "cell_type": "code",
   "execution_count": null,
   "metadata": {},
   "outputs": [],
   "source": [
    "import numpy as np\n",
    "import numba"
   ]
  },
  {
   "cell_type": "code",
   "execution_count": null,
   "metadata": {},
   "outputs": [],
   "source": [
    "@numba.njit()\n",
    "def cityblock_numba(x, y):\n",
    "    \"\"\"Implementation with numba.\"\"\"\n",
    "\n",
    "    num_samples, num_feat = x.shape\n",
    "    dist_matrix = np.empty((num_samples, num_samples))\n",
    "    for i in range(num_samples):\n",
    "        for j in range(num_samples):\n",
    "            r = 0.0\n",
    "            for k in range(num_feat):\n",
    "                r += np.abs(x[i][k] - y[j][k])\n",
    "            dist_matrix[i][j] = r\n",
    "\n",
    "    return dist_matrix\n",
    "\n",
    "\n",
    "@numba.njit(parallel=True)\n",
    "def cityblock_numba_parallel(x, y):\n",
    "    \"\"\"Implementation with numba.\"\"\"\n",
    "\n",
    "    num_samples, num_feat = x.shape\n",
    "    dist_matrix = np.empty((num_samples, num_samples))\n",
    "    for i in numba.prange(num_samples):\n",
    "        for j in range(num_samples):\n",
    "            r = 0.0\n",
    "            for k in range(num_feat):\n",
    "                r += np.abs(x[i][k] - y[j][k])\n",
    "            dist_matrix[i][j] = r\n",
    "\n",
    "    return dist_matrix\n",
    "\n",
    "\n",
    "def cityblock_broadcast(x, y):\n",
    "    \"\"\"Euclidean square distance matrix.\n",
    "    \n",
    "    Inputs:\n",
    "    x: (N, m) numpy array\n",
    "    y: (N, m) numpy array\n",
    "    \n",
    "    Ouput:\n",
    "    (N, N) Euclidean square distance matrix:\n",
    "    r_ij = (x_ij - y_ij)^2\n",
    "    \"\"\"\n",
    "    diff = x[:, np.newaxis, :] - y[np.newaxis, :, :]\n",
    "\n",
    "    return np.abs(diff).sum(axis=2)"
   ]
  },
  {
   "cell_type": "code",
   "execution_count": null,
   "metadata": {},
   "outputs": [],
   "source": [
    "nsamples = 2000\n",
    "nfeat = 50\n",
    "\n",
    "x = 10. * np.random.random([nsamples, nfeat])\n",
    "\n",
    "%timeit cityblock_numba_parallel(x,x)\n",
    "%timeit cityblock_numba(x,x)"
   ]
  },
  {
   "cell_type": "code",
   "execution_count": null,
   "metadata": {},
   "outputs": [],
   "source": [
    "np.abs(cityblock_numba_parallel(x,x) - cityblock_broadcast(x, x)).sum()"
   ]
  }
 ],
 "metadata": {
  "kernelspec": {
   "display_name": "hpcpy2023",
   "language": "python",
   "name": "hpcpy2023"
  },
  "language_info": {
   "codemirror_mode": {
    "name": "ipython",
    "version": 3
   },
   "file_extension": ".py",
   "mimetype": "text/x-python",
   "name": "python",
   "nbconvert_exporter": "python",
   "pygments_lexer": "ipython3",
   "version": "3.9.4"
  }
 },
 "nbformat": 4,
 "nbformat_minor": 4
}
